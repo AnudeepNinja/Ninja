{
 "cells": [
  {
   "cell_type": "code",
   "execution_count": 2,
   "metadata": {
    "collapsed": false
   },
   "outputs": [
    {
     "name": "stdout",
     "output_type": "stream",
     "text": [
      "('NAREN', 23, 234343)\n"
     ]
    },
    {
     "data": {
      "text/plain": [
       "('ANUDEEP', 23, 234343)"
      ]
     },
     "execution_count": 2,
     "metadata": {},
     "output_type": "execute_result"
    }
   ],
   "source": [
    "class emp:\n",
    "    name=\"\"\n",
    "    age=\"\"\n",
    "    sal=\"\"\n",
    "    def get_emp(self):\n",
    "        return self.name,self.age, self.sal\n",
    "naren = emp()\n",
    "naren.name=\"NAREN\"\n",
    "naren.age=23\n",
    "naren.sal=234343\n",
    "print naren.get_emp()\n",
    "anudeep = emp()\n",
    "anudeep.name=\"ANUDEEP\"\n",
    "anudeep.age=23\n",
    "anudeep.sal=234343\n",
    "anudeep.get_emp()"
   ]
  },
  {
   "cell_type": "code",
   "execution_count": null,
   "metadata": {
    "collapsed": true
   },
   "outputs": [],
   "source": [
    "# constructor\n",
    "class emp:\n",
    "    name=\"\"\n",
    "    age=\"\"\n",
    "    sal=\"\"\n",
    "    def __init__(self):\n",
    "        print \"this is constructor\"\n",
    "        \n",
    "    def get_emp(self):\n",
    "        return self.name,self.age, self.sal\n",
    "naren = emp()\n",
    "print naren.get_emp()\n",
    "anudeep = emp()\n",
    "print anudeep.get_emp()"
   ]
  }
 ],
 "metadata": {
  "anaconda-cloud": {},
  "kernelspec": {
   "display_name": "Python [default]",
   "language": "python",
   "name": "python2"
  },
  "language_info": {
   "codemirror_mode": {
    "name": "ipython",
    "version": 2
   },
   "file_extension": ".py",
   "mimetype": "text/x-python",
   "name": "python",
   "nbconvert_exporter": "python",
   "pygments_lexer": "ipython2",
   "version": "2.7.12"
  }
 },
 "nbformat": 4,
 "nbformat_minor": 1
}
