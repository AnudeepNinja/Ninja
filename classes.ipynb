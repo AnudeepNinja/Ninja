{
 "cells": [
  {
   "cell_type": "code",
   "execution_count": 2,
   "metadata": {
    "collapsed": false
   },
   "outputs": [
    {
     "name": "stdout",
     "output_type": "stream",
     "text": [
      "('NAREN', 23, 234343)\n"
     ]
    },
    {
     "data": {
      "text/plain": [
       "('ANUDEEP', 23, 234343)"
      ]
     },
     "execution_count": 2,
     "metadata": {},
     "output_type": "execute_result"
    }
   ],
   "source": [
    "class emp:\n",
    "    name=\"\"\n",
    "    age=\"\"\n",
    "    sal=\"\"\n",
    "    def get_emp(self):\n",
    "        return self.name,self.age, self.sal\n",
    "naren = emp()\n",
    "naren.name=\"NAREN\"\n",
    "naren.age=23\n",
    "naren.sal=234343\n",
    "print naren.get_emp()\n",
    "anudeep = emp()\n",
    "anudeep.name=\"ANUDEEP\"\n",
    "anudeep.age=23\n",
    "anudeep.sal=234343\n",
    "anudeep.get_emp()"
   ]
  },
  {
   "cell_type": "code",
   "execution_count": 3,
   "metadata": {
    "collapsed": false
   },
   "outputs": [
    {
     "name": "stdout",
     "output_type": "stream",
     "text": [
      "this is constructor\n",
      "this is constructor\n"
     ]
    }
   ],
   "source": [
    "# constructor\n",
    "class emp:\n",
    "    name=\"\"\n",
    "    age=\"\"\n",
    "    sal=\"\"\n",
    "    def __init__(self):\n",
    "        print \"this is constructor\"\n",
    "        \n",
    "    def get_emp(self):\n",
    "        return self.name,self.age, self.sal\n",
    "naren = emp()\n",
    "anudeep = emp()"
   ]
  },
  {
   "cell_type": "code",
   "execution_count": 7,
   "metadata": {
    "collapsed": true
   },
   "outputs": [],
   "source": [
    "# constructor\n",
    "class emp:\n",
    "    name=\"\"\n",
    "    age=\"\"\n",
    "    sal=\"\"\n",
    "    def __init__(self,n1,a1,s1):\n",
    "        self.name=n1\n",
    "        self.age=a1\n",
    "        self.sal=s1\n",
    "        \n",
    "    def get_emp(self):\n",
    "        return self.name,self.age, self.sal\n",
    "    def sal_cal(self):\n",
    "        return self.sal+234\n",
    "naren = emp('NAREN',23,345654345)\n",
    "anudeep = emp('ANUDEEP',24,345790)"
   ]
  },
  {
   "cell_type": "code",
   "execution_count": 8,
   "metadata": {
    "collapsed": false
   },
   "outputs": [
    {
     "data": {
      "text/plain": [
       "('NAREN', 23, 345654345)"
      ]
     },
     "execution_count": 8,
     "metadata": {},
     "output_type": "execute_result"
    }
   ],
   "source": [
    "naren.get_emp()"
   ]
  },
  {
   "cell_type": "code",
   "execution_count": 9,
   "metadata": {
    "collapsed": false
   },
   "outputs": [
    {
     "data": {
      "text/plain": [
       "('ANUDEEP', 24, 345790)"
      ]
     },
     "execution_count": 9,
     "metadata": {},
     "output_type": "execute_result"
    }
   ],
   "source": [
    "anudeep.get_emp()"
   ]
  },
  {
   "cell_type": "code",
   "execution_count": 11,
   "metadata": {
    "collapsed": false
   },
   "outputs": [
    {
     "data": {
      "text/plain": [
       "345654579"
      ]
     },
     "execution_count": 11,
     "metadata": {},
     "output_type": "execute_result"
    }
   ],
   "source": [
    "naren.sal_cal()"
   ]
  },
  {
   "cell_type": "code",
   "execution_count": 13,
   "metadata": {
    "collapsed": false
   },
   "outputs": [],
   "source": [
    "# constructor\n",
    "class emp:\n",
    "    name=\"\"\n",
    "    age=\"\"\n",
    "    sal=\"\"\n",
    "    def __init__(self,n1,a1,s1):\n",
    "        self.name=n1\n",
    "        self.age=a1\n",
    "        self.sal=s1\n",
    "        \n",
    "    def get_emp(self):\n",
    "        return self.name,self.age, self.sal\n",
    "    def sal_cal(self):\n",
    "        return self.sal+234\n",
    "naren = emp('NAREN',23,345654345)\n",
    "anudeep = emp('ANUDEEP',24,345790)"
   ]
  },
  {
   "cell_type": "code",
   "execution_count": 14,
   "metadata": {
    "collapsed": false
   },
   "outputs": [
    {
     "name": "stdout",
     "output_type": "stream",
     "text": [
      "<__main__.emp instance at 0x0000000002831AC8>\n"
     ]
    }
   ],
   "source": [
    "print naren"
   ]
  },
  {
   "cell_type": "code",
   "execution_count": 15,
   "metadata": {
    "collapsed": false
   },
   "outputs": [
    {
     "data": {
      "text/plain": [
       "('NAREN', 23, 345654345)"
      ]
     },
     "execution_count": 15,
     "metadata": {},
     "output_type": "execute_result"
    }
   ],
   "source": [
    "naren.get_emp()"
   ]
  },
  {
   "cell_type": "code",
   "execution_count": 16,
   "metadata": {
    "collapsed": true
   },
   "outputs": [],
   "source": [
    "# constructor\n",
    "class emp:\n",
    "    name=\"\"\n",
    "    age=\"\"\n",
    "    sal=\"\"\n",
    "    def __init__(self,n1,a1,s1):\n",
    "        self.name=n1\n",
    "        self.age=a1\n",
    "        self.sal=s1\n",
    "    def __str__(self):\n",
    "        return \"{0},{1},{2}\".format(self.name,self.age,self.sal)\n",
    "    def get_emp(self):\n",
    "        return self.name,self.age, self.sal\n",
    "    def sal_cal(self):\n",
    "        return self.sal+234\n",
    "naren = emp('NAREN',23,345654345)\n",
    "anudeep = emp('ANUDEEP',24,345790)"
   ]
  },
  {
   "cell_type": "code",
   "execution_count": 17,
   "metadata": {
    "collapsed": false
   },
   "outputs": [
    {
     "name": "stdout",
     "output_type": "stream",
     "text": [
      "NAREN,23,345654345\n"
     ]
    }
   ],
   "source": [
    "print naren"
   ]
  },
  {
   "cell_type": "code",
   "execution_count": 18,
   "metadata": {
    "collapsed": false
   },
   "outputs": [
    {
     "data": {
      "text/plain": [
       "345654579"
      ]
     },
     "execution_count": 18,
     "metadata": {},
     "output_type": "execute_result"
    }
   ],
   "source": [
    "naren.sal_cal()"
   ]
  },
  {
   "cell_type": "code",
   "execution_count": 19,
   "metadata": {
    "collapsed": false
   },
   "outputs": [
    {
     "data": {
      "text/plain": [
       "('NAREN', 23, 345654345)"
      ]
     },
     "execution_count": 19,
     "metadata": {},
     "output_type": "execute_result"
    }
   ],
   "source": [
    "naren.get_emp()"
   ]
  },
  {
   "cell_type": "code",
   "execution_count": 20,
   "metadata": {
    "collapsed": false
   },
   "outputs": [
    {
     "name": "stdout",
     "output_type": "stream",
     "text": [
      "__main__.emp\n"
     ]
    }
   ],
   "source": [
    "print emp"
   ]
  },
  {
   "cell_type": "code",
   "execution_count": 21,
   "metadata": {
    "collapsed": false
   },
   "outputs": [
    {
     "name": "stdout",
     "output_type": "stream",
     "text": [
      "NAREN,23,345654345\n"
     ]
    }
   ],
   "source": [
    "print naren"
   ]
  },
  {
   "cell_type": "code",
   "execution_count": 22,
   "metadata": {
    "collapsed": true
   },
   "outputs": [],
   "source": [
    "n1 = naren"
   ]
  },
  {
   "cell_type": "code",
   "execution_count": 23,
   "metadata": {
    "collapsed": false
   },
   "outputs": [
    {
     "data": {
      "text/plain": [
       "<__main__.emp instance at 0x000000000478C188>"
      ]
     },
     "execution_count": 23,
     "metadata": {},
     "output_type": "execute_result"
    }
   ],
   "source": [
    "n1"
   ]
  },
  {
   "cell_type": "code",
   "execution_count": 24,
   "metadata": {
    "collapsed": true
   },
   "outputs": [],
   "source": [
    "# constructor\n",
    "class emp:\n",
    "    name=\"\"\n",
    "    age=\"\"\n",
    "    sal=\"\"\n",
    "    def __init__(self,n1,a1,s1):\n",
    "        self.name=n1\n",
    "        self.age=a1\n",
    "        self.sal=s1\n",
    "        \n",
    "    def get_emp(self):\n",
    "        return self.name,self.age, self.sal\n",
    "    def sal_cal(self):\n",
    "        return self.sal+234\n",
    "naren = emp('NAREN',23,345654345)\n",
    "anudeep = emp('ANUDEEP',24,345790)\n"
   ]
  },
  {
   "cell_type": "code",
   "execution_count": 25,
   "metadata": {
    "collapsed": true
   },
   "outputs": [],
   "source": [
    "a=10\n",
    "b=20"
   ]
  },
  {
   "cell_type": "code",
   "execution_count": 26,
   "metadata": {
    "collapsed": false
   },
   "outputs": [
    {
     "name": "stdout",
     "output_type": "stream",
     "text": [
      "30\n"
     ]
    }
   ],
   "source": [
    "print a+b"
   ]
  },
  {
   "cell_type": "code",
   "execution_count": 27,
   "metadata": {
    "collapsed": false
   },
   "outputs": [
    {
     "ename": "TypeError",
     "evalue": "unsupported operand type(s) for +: 'instance' and 'instance'",
     "output_type": "error",
     "traceback": [
      "\u001b[0;31m---------------------------------------------------------------------------\u001b[0m",
      "\u001b[0;31mTypeError\u001b[0m                                 Traceback (most recent call last)",
      "\u001b[0;32m<ipython-input-27-c0bd3368730a>\u001b[0m in \u001b[0;36m<module>\u001b[0;34m()\u001b[0m\n\u001b[0;32m----> 1\u001b[0;31m \u001b[1;32mprint\u001b[0m \u001b[0mnaren\u001b[0m\u001b[1;33m+\u001b[0m\u001b[0manudeep\u001b[0m\u001b[1;33m\u001b[0m\u001b[0m\n\u001b[0m",
      "\u001b[0;31mTypeError\u001b[0m: unsupported operand type(s) for +: 'instance' and 'instance'"
     ]
    }
   ],
   "source": [
    "print naren+anudeep"
   ]
  },
  {
   "cell_type": "code",
   "execution_count": 28,
   "metadata": {
    "collapsed": false
   },
   "outputs": [
    {
     "name": "stdout",
     "output_type": "stream",
     "text": [
      "adition\n"
     ]
    }
   ],
   "source": [
    "# constructor\n",
    "class emp:\n",
    "    name=\"\"\n",
    "    age=\"\"\n",
    "    sal=\"\"\n",
    "    def __init__(self,n1,a1,s1):\n",
    "        self.name=n1\n",
    "        self.age=a1\n",
    "        self.sal=s1\n",
    "    def get_emp(self):\n",
    "        return self.name,self.age, self.sal\n",
    "    def sal_cal(self):\n",
    "        return self.sal+234\n",
    "    def __add__(ins1,ins2):\n",
    "        return \"adition\"\n",
    "naren = emp('NAREN',23,345654345)\n",
    "anudeep = emp('ANUDEEP',24,345790)\n",
    "print naren+anudeep"
   ]
  },
  {
   "cell_type": "code",
   "execution_count": 29,
   "metadata": {
    "collapsed": false
   },
   "outputs": [
    {
     "name": "stdout",
     "output_type": "stream",
     "text": [
      "('NARENANUDEEP', 346000135)\n"
     ]
    }
   ],
   "source": [
    "# constructor\n",
    "class emp:\n",
    "    name=\"\"\n",
    "    age=\"\"\n",
    "    sal=\"\"\n",
    "    def __init__(self,n1,a1,s1):\n",
    "        self.name=n1\n",
    "        self.age=a1\n",
    "        self.sal=s1\n",
    "    def get_emp(self):\n",
    "        return self.name,self.age, self.sal\n",
    "    def sal_cal(self):\n",
    "        return self.sal+234\n",
    "    def __add__(ins1,ins2):\n",
    "        return ins1.name+ins2.name, ins1.sal+ins2.sal\n",
    "naren = emp('NAREN',23,345654345)\n",
    "anudeep = emp('ANUDEEP',24,345790)\n",
    "print naren+anudeep"
   ]
  },
  {
   "cell_type": "code",
   "execution_count": 30,
   "metadata": {
    "collapsed": true
   },
   "outputs": [],
   "source": [
    "# method overloading\n",
    "# method overriding\n",
    "# operator overloading"
   ]
  },
  {
   "cell_type": "code",
   "execution_count": 31,
   "metadata": {
    "collapsed": false
   },
   "outputs": [
    {
     "name": "stdout",
     "output_type": "stream",
     "text": [
      "30\n",
      "str1str2\n",
      "[1, 2, 3, 4, 5, 6]\n"
     ]
    }
   ],
   "source": [
    "print 10+20\n",
    "print \"str1\"+\"str2\"\n",
    "print [1,2,3]+[4,5,6]"
   ]
  },
  {
   "cell_type": "code",
   "execution_count": 34,
   "metadata": {
    "collapsed": false
   },
   "outputs": [
    {
     "ename": "TypeError",
     "evalue": "fun1() takes exactly 3 arguments (2 given)",
     "output_type": "error",
     "traceback": [
      "\u001b[0;31m---------------------------------------------------------------------------\u001b[0m",
      "\u001b[0;31mTypeError\u001b[0m                                 Traceback (most recent call last)",
      "\u001b[0;32m<ipython-input-34-227e1aec74cf>\u001b[0m in \u001b[0;36m<module>\u001b[0;34m()\u001b[0m\n\u001b[1;32m      4\u001b[0m \u001b[1;32mdef\u001b[0m \u001b[0mfun1\u001b[0m\u001b[1;33m(\u001b[0m\u001b[0ma\u001b[0m\u001b[1;33m,\u001b[0m\u001b[0mb\u001b[0m\u001b[1;33m,\u001b[0m\u001b[0mc\u001b[0m\u001b[1;33m)\u001b[0m\u001b[1;33m:\u001b[0m\u001b[1;33m\u001b[0m\u001b[0m\n\u001b[1;32m      5\u001b[0m     \u001b[1;32mreturn\u001b[0m \u001b[0ma\u001b[0m\u001b[1;33m+\u001b[0m\u001b[0mb\u001b[0m\u001b[1;33m+\u001b[0m\u001b[0mc\u001b[0m\u001b[1;33m\u001b[0m\u001b[0m\n\u001b[0;32m----> 6\u001b[0;31m \u001b[1;32mprint\u001b[0m \u001b[0mfun1\u001b[0m\u001b[1;33m(\u001b[0m\u001b[1;36m10\u001b[0m\u001b[1;33m,\u001b[0m\u001b[1;36m20\u001b[0m\u001b[1;33m)\u001b[0m\u001b[1;33m\u001b[0m\u001b[0m\n\u001b[0m",
      "\u001b[0;31mTypeError\u001b[0m: fun1() takes exactly 3 arguments (2 given)"
     ]
    }
   ],
   "source": [
    "#method overloading\n",
    "def fun1(a,b):\n",
    "    return a+b\n",
    "def fun1(a,b,c):\n",
    "    return a+b+c\n",
    "print fun1(10,20)"
   ]
  },
  {
   "cell_type": "code",
   "execution_count": 32,
   "metadata": {
    "collapsed": true
   },
   "outputs": [],
   "source": [
    "a=10\n",
    "a=100"
   ]
  },
  {
   "cell_type": "code",
   "execution_count": 33,
   "metadata": {
    "collapsed": false
   },
   "outputs": [
    {
     "name": "stdout",
     "output_type": "stream",
     "text": [
      "100\n"
     ]
    }
   ],
   "source": [
    "print a"
   ]
  },
  {
   "cell_type": "code",
   "execution_count": 36,
   "metadata": {
    "collapsed": false
   },
   "outputs": [
    {
     "name": "stdout",
     "output_type": "stream",
     "text": [
      "30\n",
      "10\n",
      "600\n"
     ]
    }
   ],
   "source": [
    "#method overloading\n",
    "def fun1(*a):\n",
    "    return sum(a)\n",
    "\n",
    "print fun1(10,20)\n",
    "print fun1(10)\n",
    "print fun1(100,200,300)"
   ]
  },
  {
   "cell_type": "code",
   "execution_count": 38,
   "metadata": {
    "collapsed": false
   },
   "outputs": [
    {
     "name": "stdout",
     "output_type": "stream",
     "text": [
      "operation one\n",
      "operation two\n"
     ]
    }
   ],
   "source": [
    "# inheritance\n",
    "class c1:\n",
    "    def o1(self):\n",
    "        return \"operation one\"\n",
    "class c2:\n",
    "    def o2(self):\n",
    "        return \"operation two\"\n",
    "class c3:\n",
    "    def operations(self):\n",
    "        obj1 = c1()\n",
    "        obj2 = c2()\n",
    "        print obj1.o1()\n",
    "        print obj2.o2()\n",
    "o3 = c3()\n",
    "o3.operations()"
   ]
  },
  {
   "cell_type": "code",
   "execution_count": 39,
   "metadata": {
    "collapsed": false
   },
   "outputs": [
    {
     "ename": "TypeError",
     "evalue": "unbound method operations() must be called with c3 instance as first argument (got nothing instead)",
     "output_type": "error",
     "traceback": [
      "\u001b[0;31m---------------------------------------------------------------------------\u001b[0m",
      "\u001b[0;31mTypeError\u001b[0m                                 Traceback (most recent call last)",
      "\u001b[0;32m<ipython-input-39-25589440f8dc>\u001b[0m in \u001b[0;36m<module>\u001b[0;34m()\u001b[0m\n\u001b[0;32m----> 1\u001b[0;31m \u001b[0mc3\u001b[0m\u001b[1;33m.\u001b[0m\u001b[0moperations\u001b[0m\u001b[1;33m(\u001b[0m\u001b[1;33m)\u001b[0m\u001b[1;33m\u001b[0m\u001b[0m\n\u001b[0m",
      "\u001b[0;31mTypeError\u001b[0m: unbound method operations() must be called with c3 instance as first argument (got nothing instead)"
     ]
    }
   ],
   "source": [
    "c3.operations()"
   ]
  },
  {
   "cell_type": "code",
   "execution_count": 40,
   "metadata": {
    "collapsed": false
   },
   "outputs": [
    {
     "name": "stdout",
     "output_type": "stream",
     "text": [
      "operation one\n",
      "operation two\n"
     ]
    }
   ],
   "source": [
    "c3.operations(o3)"
   ]
  },
  {
   "cell_type": "code",
   "execution_count": 41,
   "metadata": {
    "collapsed": false
   },
   "outputs": [
    {
     "name": "stdout",
     "output_type": "stream",
     "text": [
      "operation one\n",
      "operation two\n"
     ]
    }
   ],
   "source": [
    "o3.operations()"
   ]
  },
  {
   "cell_type": "code",
   "execution_count": 42,
   "metadata": {
    "collapsed": false
   },
   "outputs": [
    {
     "ename": "TypeError",
     "evalue": "unbound method operations() must be called with c3 instance as first argument (got nothing instead)",
     "output_type": "error",
     "traceback": [
      "\u001b[0;31m---------------------------------------------------------------------------\u001b[0m",
      "\u001b[0;31mTypeError\u001b[0m                                 Traceback (most recent call last)",
      "\u001b[0;32m<ipython-input-42-25589440f8dc>\u001b[0m in \u001b[0;36m<module>\u001b[0;34m()\u001b[0m\n\u001b[0;32m----> 1\u001b[0;31m \u001b[0mc3\u001b[0m\u001b[1;33m.\u001b[0m\u001b[0moperations\u001b[0m\u001b[1;33m(\u001b[0m\u001b[1;33m)\u001b[0m\u001b[1;33m\u001b[0m\u001b[0m\n\u001b[0m",
      "\u001b[0;31mTypeError\u001b[0m: unbound method operations() must be called with c3 instance as first argument (got nothing instead)"
     ]
    }
   ],
   "source": [
    "c3.operations()"
   ]
  },
  {
   "cell_type": "code",
   "execution_count": 43,
   "metadata": {
    "collapsed": false
   },
   "outputs": [
    {
     "ename": "AttributeError",
     "evalue": "c3 instance has no attribute 'o1'",
     "output_type": "error",
     "traceback": [
      "\u001b[0;31m---------------------------------------------------------------------------\u001b[0m",
      "\u001b[0;31mAttributeError\u001b[0m                            Traceback (most recent call last)",
      "\u001b[0;32m<ipython-input-43-71a32898e712>\u001b[0m in \u001b[0;36m<module>\u001b[0;34m()\u001b[0m\n\u001b[1;32m     11\u001b[0m         \u001b[1;32mprint\u001b[0m \u001b[0mself\u001b[0m\u001b[1;33m.\u001b[0m\u001b[0mo2\u001b[0m\u001b[1;33m(\u001b[0m\u001b[1;33m)\u001b[0m\u001b[1;33m\u001b[0m\u001b[0m\n\u001b[1;32m     12\u001b[0m \u001b[0mo3\u001b[0m \u001b[1;33m=\u001b[0m \u001b[0mc3\u001b[0m\u001b[1;33m(\u001b[0m\u001b[1;33m)\u001b[0m\u001b[1;33m\u001b[0m\u001b[0m\n\u001b[0;32m---> 13\u001b[0;31m \u001b[0mo3\u001b[0m\u001b[1;33m.\u001b[0m\u001b[0moperations\u001b[0m\u001b[1;33m(\u001b[0m\u001b[1;33m)\u001b[0m\u001b[1;33m\u001b[0m\u001b[0m\n\u001b[0m",
      "\u001b[0;32m<ipython-input-43-71a32898e712>\u001b[0m in \u001b[0;36moperations\u001b[0;34m(self)\u001b[0m\n\u001b[1;32m      8\u001b[0m \u001b[1;32mclass\u001b[0m \u001b[0mc3\u001b[0m\u001b[1;33m:\u001b[0m\u001b[1;33m\u001b[0m\u001b[0m\n\u001b[1;32m      9\u001b[0m     \u001b[1;32mdef\u001b[0m \u001b[0moperations\u001b[0m\u001b[1;33m(\u001b[0m\u001b[0mself\u001b[0m\u001b[1;33m)\u001b[0m\u001b[1;33m:\u001b[0m\u001b[1;33m\u001b[0m\u001b[0m\n\u001b[0;32m---> 10\u001b[0;31m         \u001b[1;32mprint\u001b[0m \u001b[0mself\u001b[0m\u001b[1;33m.\u001b[0m\u001b[0mo1\u001b[0m\u001b[1;33m(\u001b[0m\u001b[1;33m)\u001b[0m\u001b[1;33m\u001b[0m\u001b[0m\n\u001b[0m\u001b[1;32m     11\u001b[0m         \u001b[1;32mprint\u001b[0m \u001b[0mself\u001b[0m\u001b[1;33m.\u001b[0m\u001b[0mo2\u001b[0m\u001b[1;33m(\u001b[0m\u001b[1;33m)\u001b[0m\u001b[1;33m\u001b[0m\u001b[0m\n\u001b[1;32m     12\u001b[0m \u001b[0mo3\u001b[0m \u001b[1;33m=\u001b[0m \u001b[0mc3\u001b[0m\u001b[1;33m(\u001b[0m\u001b[1;33m)\u001b[0m\u001b[1;33m\u001b[0m\u001b[0m\n",
      "\u001b[0;31mAttributeError\u001b[0m: c3 instance has no attribute 'o1'"
     ]
    }
   ],
   "source": [
    "# inheritance\n",
    "class c1:\n",
    "    def o1(self):\n",
    "        return \"operation one\"\n",
    "class c2:\n",
    "    def o2(self):\n",
    "        return \"operation two\"\n",
    "class c3:\n",
    "    def operations(self):\n",
    "        print self.o1()\n",
    "        print self.o2()\n",
    "o3 = c3()\n",
    "o3.operations()"
   ]
  },
  {
   "cell_type": "code",
   "execution_count": 45,
   "metadata": {
    "collapsed": false
   },
   "outputs": [
    {
     "name": "stdout",
     "output_type": "stream",
     "text": [
      "operation one\n",
      "operation two\n"
     ]
    }
   ],
   "source": [
    "# inheritance\n",
    "class c1:\n",
    "    def o1(self):\n",
    "        return \"operation one\"\n",
    "class c2:\n",
    "    def o2(self):\n",
    "        return \"operation two\"\n",
    "class c3:\n",
    "    def operations(self):\n",
    "        print self.o1()\n",
    "        print self.o2()\n",
    "    def o1(self):\n",
    "        return \"operation one\"\n",
    "    def o2(self):\n",
    "        return \"operation two\"\n",
    "o3 = c3()\n",
    "o3.operations()"
   ]
  },
  {
   "cell_type": "code",
   "execution_count": 46,
   "metadata": {
    "collapsed": false
   },
   "outputs": [
    {
     "name": "stdout",
     "output_type": "stream",
     "text": [
      "operation one\n",
      "operation two\n"
     ]
    }
   ],
   "source": [
    "# inheritance\n",
    "class c1:\n",
    "    def o1(self):\n",
    "        return \"operation one\"\n",
    "class c2:\n",
    "    def o2(self):\n",
    "        return \"operation two\"\n",
    "class c3(c1,c2):\n",
    "    def operations(self):\n",
    "        print self.o1()\n",
    "        print self.o2()\n",
    "   \n",
    "o3 = c3()\n",
    "o3.operations()"
   ]
  },
  {
   "cell_type": "code",
   "execution_count": null,
   "metadata": {
    "collapsed": true
   },
   "outputs": [],
   "source": []
  }
 ],
 "metadata": {
  "anaconda-cloud": {},
  "kernelspec": {
   "display_name": "Python [default]",
   "language": "python",
   "name": "python2"
  },
  "language_info": {
   "codemirror_mode": {
    "name": "ipython",
    "version": 2
   },
   "file_extension": ".py",
   "mimetype": "text/x-python",
   "name": "python",
   "nbconvert_exporter": "python",
   "pygments_lexer": "ipython2",
   "version": "2.7.12"
  }
 },
 "nbformat": 4,
 "nbformat_minor": 1
}
